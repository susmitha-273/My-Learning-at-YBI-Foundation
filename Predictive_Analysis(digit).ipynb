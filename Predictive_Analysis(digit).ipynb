{
  "nbformat": 4,
  "nbformat_minor": 0,
  "metadata": {
    "colab": {
      "name": "Predictive Analysis(digit).ipynb",
      "provenance": []
    },
    "kernelspec": {
      "name": "python3",
      "display_name": "Python 3"
    },
    "language_info": {
      "name": "python"
    }
  },
  "cells": [
    {
      "cell_type": "code",
      "source": [
        "import pandas as pd\n",
        "import numpy as np\n",
        "import matplotlib.pyplot as plt"
      ],
      "metadata": {
        "id": "nk4nMgx2Ffxj"
      },
      "execution_count": 1,
      "outputs": []
    },
    {
      "cell_type": "code",
      "source": [
        "from sklearn .datasets import load_digits\n",
        "df=load_digits()\n",
        "_,axes =plt.subplots(nrows=1,ncols=4,figsize=(10,3))\n",
        "for ax, image, label in zip(axes, df.images, df.target):\n",
        "  ax.set_axis_off()\n",
        "  ax.imshow(image ,cmap=plt.cm.gray_r,interpolation =\"nearest\")\n",
        "  ax.set_title(\"Training: %i\" % label)"
      ],
      "metadata": {
        "colab": {
          "base_uri": "https://localhost:8080/",
          "height": 168
        },
        "id": "-o_-nT8mGDlk",
        "outputId": "034558c4-7e2f-4e2c-fca9-7b15da8fea6c"
      },
      "execution_count": 2,
      "outputs": [
        {
          "output_type": "display_data",
          "data": {
            "text/plain": [
              "<Figure size 720x216 with 4 Axes>"
            ],
            "image/png": "[encoded data removed]"
          },
          "metadata": {
            "needs_background": "light"
          }
        }
      ]
    },
    {
      "cell_type": "code",
      "source": [
        "df.images.shape"
      ],
      "metadata": {
        "colab": {
          "base_uri": "https://localhost:8080/"
        },
        "id": "44kG0n5-H3W4",
        "outputId": "73519cd2-0775-47a6-e64f-919199ccfd6c"
      },
      "execution_count": 3,
      "outputs": [
        {
          "output_type": "execute_result",
          "data": {
            "text/plain": [
              "(1797, 8, 8)"
            ]
          },
          "metadata": {},
          "execution_count": 3
        }
      ]
    },
    {
      "cell_type": "code",
      "source": [
        "df.images[0]"
      ],
      "metadata": {
        "colab": {
          "base_uri": "https://localhost:8080/"
        },
        "id": "d6S3LvKSIey-",
        "outputId": "4e66d50a-93d3-463f-9175-75f8fcf3dea3"
      },
      "execution_count": 4,
      "outputs": [
        {
          "output_type": "execute_result",
          "data": {
            "text/plain": [
              "array([[ 0.,  0.,  5., 13.,  9.,  1.,  0.,  0.],\n",
              "       [ 0.,  0., 13., 15., 10., 15.,  5.,  0.],\n",
              "       [ 0.,  3., 15.,  2.,  0., 11.,  8.,  0.],\n",
              "       [ 0.,  4., 12.,  0.,  0.,  8.,  8.,  0.],\n",
              "       [ 0.,  5.,  8.,  0.,  0.,  9.,  8.,  0.],\n",
              "       [ 0.,  4., 11.,  0.,  1., 12.,  7.,  0.],\n",
              "       [ 0.,  2., 14.,  5., 10., 12.,  0.,  0.],\n",
              "       [ 0.,  0.,  6., 13., 10.,  0.,  0.,  0.]])"
            ]
          },
          "metadata": {},
          "execution_count": 4
        }
      ]
    },
    {
      "cell_type": "code",
      "source": [
        "len(df.images)"
      ],
      "metadata": {
        "colab": {
          "base_uri": "https://localhost:8080/"
        },
        "id": "JWWYbOGGNuVr",
        "outputId": "00924718-5b0e-4145-9cd8-dc4a814579bc"
      },
      "execution_count": 5,
      "outputs": [
        {
          "output_type": "execute_result",
          "data": {
            "text/plain": [
              "1797"
            ]
          },
          "metadata": {},
          "execution_count": 5
        }
      ]
    },
    {
      "cell_type": "code",
      "source": [
        "df.images[0].shape"
      ],
      "metadata": {
        "colab": {
          "base_uri": "https://localhost:8080/"
        },
        "id": "nRu0WC0hI40x",
        "outputId": "35e81c3a-0b27-4760-cf91-401083897096"
      },
      "execution_count": 6,
      "outputs": [
        {
          "output_type": "execute_result",
          "data": {
            "text/plain": [
              "(8, 8)"
            ]
          },
          "metadata": {},
          "execution_count": 6
        }
      ]
    },
    {
      "cell_type": "code",
      "source": [
        "n_samples = len(df.images)\n",
        "data = df.images.reshape((n_samples,-1))\n",
        "data[0]"
      ],
      "metadata": {
        "colab": {
          "base_uri": "https://localhost:8080/"
        },
        "id": "54BCsrUlI3oh",
        "outputId": "6b7a7377-65d1-4220-efaf-4beba16a3372"
      },
      "execution_count": 7,
      "outputs": [
        {
          "output_type": "execute_result",
          "data": {
            "text/plain": [
              "array([ 0.,  0.,  5., 13.,  9.,  1.,  0.,  0.,  0.,  0., 13., 15., 10.,\n",
              "       15.,  5.,  0.,  0.,  3., 15.,  2.,  0., 11.,  8.,  0.,  0.,  4.,\n",
              "       12.,  0.,  0.,  8.,  8.,  0.,  0.,  5.,  8.,  0.,  0.,  9.,  8.,\n",
              "        0.,  0.,  4., 11.,  0.,  1., 12.,  7.,  0.,  0.,  2., 14.,  5.,\n",
              "       10., 12.,  0.,  0.,  0.,  0.,  6., 13., 10.,  0.,  0.,  0.])"
            ]
          },
          "metadata": {},
          "execution_count": 7
        }
      ]
    },
    {
      "cell_type": "code",
      "source": [
        "data[0].shape"
      ],
      "metadata": {
        "colab": {
          "base_uri": "https://localhost:8080/"
        },
        "id": "IJ5QO3_PJB2F",
        "outputId": "1c8d3a8b-b635-43c8-9c01-1b309193a7c8"
      },
      "execution_count": 8,
      "outputs": [
        {
          "output_type": "execute_result",
          "data": {
            "text/plain": [
              "(64,)"
            ]
          },
          "metadata": {},
          "execution_count": 8
        }
      ]
    },
    {
      "cell_type": "code",
      "source": [
        "data.shape"
      ],
      "metadata": {
        "colab": {
          "base_uri": "https://localhost:8080/"
        },
        "id": "jvSP6fdAJJ9E",
        "outputId": "e897c4ba-f1e3-41ff-908b-68d14360ce30"
      },
      "execution_count": 9,
      "outputs": [
        {
          "output_type": "execute_result",
          "data": {
            "text/plain": [
              "(1797, 64)"
            ]
          },
          "metadata": {},
          "execution_count": 9
        }
      ]
    },
    {
      "cell_type": "code",
      "source": [
        "data.min()"
      ],
      "metadata": {
        "colab": {
          "base_uri": "https://localhost:8080/"
        },
        "id": "SNb3m3D0JN9I",
        "outputId": "50c0399a-e6cf-45da-a550-62e596c2469f"
      },
      "execution_count": 10,
      "outputs": [
        {
          "output_type": "execute_result",
          "data": {
            "text/plain": [
              "0.0"
            ]
          },
          "metadata": {},
          "execution_count": 10
        }
      ]
    },
    {
      "cell_type": "code",
      "source": [
        "data.max()"
      ],
      "metadata": {
        "colab": {
          "base_uri": "https://localhost:8080/"
        },
        "id": "NUr9obW5JV7r",
        "outputId": "82bed865-f131-4f5e-be2e-cc8da7f9772e"
      },
      "execution_count": 11,
      "outputs": [
        {
          "output_type": "execute_result",
          "data": {
            "text/plain": [
              "16.0"
            ]
          },
          "metadata": {},
          "execution_count": 11
        }
      ]
    },
    {
      "cell_type": "code",
      "source": [
        "data=data/16\n",
        "data.min()"
      ],
      "metadata": {
        "colab": {
          "base_uri": "https://localhost:8080/"
        },
        "id": "Zt6w6zR8JYkn",
        "outputId": "fc1f6c35-82ea-487b-e6fa-462ff2553c8b"
      },
      "execution_count": 12,
      "outputs": [
        {
          "output_type": "execute_result",
          "data": {
            "text/plain": [
              "0.0"
            ]
          },
          "metadata": {},
          "execution_count": 12
        }
      ]
    },
    {
      "cell_type": "code",
      "source": [
        "data.max()"
      ],
      "metadata": {
        "colab": {
          "base_uri": "https://localhost:8080/"
        },
        "id": "ZjtddquQJsy_",
        "outputId": "2f0ca0aa-7814-4e63-f91f-35cbefd15df3"
      },
      "execution_count": 13,
      "outputs": [
        {
          "output_type": "execute_result",
          "data": {
            "text/plain": [
              "1.0"
            ]
          },
          "metadata": {},
          "execution_count": 13
        }
      ]
    },
    {
      "cell_type": "code",
      "source": [
        "data[0]"
      ],
      "metadata": {
        "colab": {
          "base_uri": "https://localhost:8080/"
        },
        "id": "2iO-IJZ0J6hx",
        "outputId": "6e4ee597-c5ed-4a7f-db5f-b6a272613cd6"
      },
      "execution_count": 14,
      "outputs": [
        {
          "output_type": "execute_result",
          "data": {
            "text/plain": [
              "array([0.    , 0.    , 0.3125, 0.8125, 0.5625, 0.0625, 0.    , 0.    ,\n",
              "       0.    , 0.    , 0.8125, 0.9375, 0.625 , 0.9375, 0.3125, 0.    ,\n",
              "       0.    , 0.1875, 0.9375, 0.125 , 0.    , 0.6875, 0.5   , 0.    ,\n",
              "       0.    , 0.25  , 0.75  , 0.    , 0.    , 0.5   , 0.5   , 0.    ,\n",
              "       0.    , 0.3125, 0.5   , 0.    , 0.    , 0.5625, 0.5   , 0.    ,\n",
              "       0.    , 0.25  , 0.6875, 0.    , 0.0625, 0.75  , 0.4375, 0.    ,\n",
              "       0.    , 0.125 , 0.875 , 0.3125, 0.625 , 0.75  , 0.    , 0.    ,\n",
              "       0.    , 0.    , 0.375 , 0.8125, 0.625 , 0.    , 0.    , 0.    ])"
            ]
          },
          "metadata": {},
          "execution_count": 14
        }
      ]
    },
    {
      "cell_type": "code",
      "source": [
        "from sklearn.model_selection import train_test_split\n",
        "X_train,X_test,y_train,y_test=train_test_split(data,df.target,train_size=0.7,random_state = 202529)\n",
        "X_train.shape, X_test.shape ,y_train.shape, y_test.shape"
      ],
      "metadata": {
        "colab": {
          "base_uri": "https://localhost:8080/"
        },
        "id": "Bi4OqxsdKCqF",
        "outputId": "58de4f98-bb35-422a-b543-4a268963f9ff"
      },
      "execution_count": 15,
      "outputs": [
        {
          "output_type": "execute_result",
          "data": {
            "text/plain": [
              "((1257, 64), (540, 64), (1257,), (540,))"
            ]
          },
          "metadata": {},
          "execution_count": 15
        }
      ]
    },
    {
      "cell_type": "code",
      "source": [
        "from sklearn.ensemble import RandomForestClassifier\n",
        "rf=RandomForestClassifier()\n",
        "rf.fit(X_train,y_train)"
      ],
      "metadata": {
        "colab": {
          "base_uri": "https://localhost:8080/"
        },
        "id": "KE7GXJ8QLm32",
        "outputId": "7302563c-fc06-41c7-8cd7-99eff4699f12"
      },
      "execution_count": 16,
      "outputs": [
        {
          "output_type": "execute_result",
          "data": {
            "text/plain": [
              "RandomForestClassifier()"
            ]
          },
          "metadata": {},
          "execution_count": 16
        }
      ]
    },
    {
      "cell_type": "code",
      "source": [
        "y_pred = rf.predict(X_test)\n",
        "y_pred"
      ],
      "metadata": {
        "colab": {
          "base_uri": "https://localhost:8080/"
        },
        "id": "zM1XBWLFL_0s",
        "outputId": "c798b92e-f1f1-4b8a-8948-a257bac81e24"
      },
      "execution_count": 17,
      "outputs": [
        {
          "output_type": "execute_result",
          "data": {
            "text/plain": [
              "array([4, 3, 6, 5, 0, 8, 7, 2, 3, 5, 7, 1, 7, 4, 2, 8, 7, 1, 1, 4, 2, 3,\n",
              "       7, 4, 5, 4, 0, 8, 7, 7, 9, 6, 6, 9, 0, 6, 5, 2, 5, 1, 3, 4, 9, 2,\n",
              "       7, 1, 3, 6, 8, 5, 9, 2, 3, 0, 1, 0, 6, 2, 4, 5, 1, 3, 1, 4, 8, 5,\n",
              "       5, 6, 5, 6, 1, 6, 9, 3, 2, 9, 4, 3, 2, 8, 1, 5, 7, 8, 2, 3, 0, 7,\n",
              "       8, 2, 8, 9, 5, 3, 8, 1, 1, 4, 6, 7, 4, 9, 0, 2, 9, 7, 7, 0, 9, 2,\n",
              "       6, 0, 4, 9, 8, 6, 1, 1, 2, 3, 1, 1, 0, 0, 8, 6, 0, 7, 7, 1, 0, 2,\n",
              "       6, 7, 0, 6, 7, 3, 7, 4, 5, 5, 6, 4, 4, 3, 5, 0, 5, 6, 3, 1, 0, 0,\n",
              "       0, 7, 5, 1, 3, 7, 9, 4, 4, 0, 1, 6, 0, 8, 6, 8, 9, 3, 4, 8, 5, 0,\n",
              "       0, 1, 0, 2, 4, 7, 3, 7, 5, 3, 0, 8, 8, 5, 6, 3, 2, 9, 4, 5, 1, 3,\n",
              "       2, 1, 6, 7, 6, 4, 4, 1, 1, 5, 8, 5, 8, 1, 5, 7, 8, 9, 7, 3, 3, 0,\n",
              "       9, 1, 3, 3, 9, 4, 8, 0, 0, 3, 4, 6, 7, 1, 3, 6, 7, 9, 4, 2, 5, 9,\n",
              "       3, 8, 1, 7, 1, 2, 2, 2, 3, 6, 0, 6, 1, 3, 7, 2, 1, 1, 9, 3, 9, 1,\n",
              "       5, 9, 8, 1, 2, 1, 3, 0, 7, 4, 4, 0, 0, 4, 5, 7, 9, 3, 3, 1, 5, 7,\n",
              "       4, 9, 1, 2, 2, 2, 8, 7, 4, 0, 1, 5, 6, 1, 2, 8, 2, 6, 3, 3, 1, 6,\n",
              "       3, 4, 2, 5, 9, 1, 5, 9, 3, 8, 5, 5, 2, 4, 2, 0, 6, 3, 6, 9, 7, 8,\n",
              "       9, 1, 5, 0, 5, 5, 6, 3, 1, 6, 9, 6, 5, 7, 1, 0, 6, 9, 0, 6, 5, 7,\n",
              "       0, 2, 0, 8, 2, 5, 2, 8, 8, 2, 8, 6, 7, 4, 1, 9, 6, 4, 0, 6, 3, 4,\n",
              "       7, 6, 7, 8, 1, 4, 8, 5, 5, 7, 2, 2, 8, 4, 2, 6, 6, 4, 9, 9, 8, 8,\n",
              "       0, 0, 2, 8, 3, 6, 8, 1, 0, 8, 8, 1, 7, 8, 6, 5, 3, 1, 9, 7, 8, 8,\n",
              "       0, 2, 5, 1, 3, 7, 5, 5, 2, 4, 9, 4, 3, 3, 2, 9, 3, 6, 3, 3, 2, 4,\n",
              "       2, 6, 6, 2, 7, 6, 4, 9, 4, 9, 9, 7, 1, 6, 7, 4, 4, 3, 5, 2, 9, 1,\n",
              "       1, 3, 0, 2, 6, 5, 0, 0, 2, 5, 4, 2, 2, 0, 5, 8, 1, 7, 5, 6, 7, 2,\n",
              "       6, 9, 7, 8, 8, 6, 8, 5, 9, 3, 1, 1, 3, 9, 6, 5, 8, 5, 1, 6, 3, 8,\n",
              "       1, 9, 6, 3, 4, 2, 7, 4, 2, 8, 3, 9, 2, 5, 5, 4, 0, 2, 9, 4, 6, 2,\n",
              "       3, 6, 3, 4, 1, 0, 1, 3, 8, 2, 1, 0])"
            ]
          },
          "metadata": {},
          "execution_count": 17
        }
      ]
    },
    {
      "cell_type": "code",
      "source": [
        "from sklearn.metrics import confusion_matrix,classification_report\n",
        "confusion_matrix(y_test,y_pred)"
      ],
      "metadata": {
        "colab": {
          "base_uri": "https://localhost:8080/"
        },
        "id": "zAkyLq1qMHln",
        "outputId": "72e204b3-c8ef-4958-ba68-237130c7c491"
      },
      "execution_count": 18,
      "outputs": [
        {
          "output_type": "execute_result",
          "data": {
            "text/plain": [
              "array([[49,  0,  0,  0,  1,  0,  0,  0,  0,  0],\n",
              "       [ 0, 59,  0,  0,  0,  0,  0,  0,  0,  0],\n",
              "       [ 0,  0, 58,  0,  0,  0,  0,  0,  0,  0],\n",
              "       [ 0,  0,  0, 59,  0,  0,  0,  0,  2,  0],\n",
              "       [ 0,  0,  0,  0, 50,  0,  0,  0,  0,  0],\n",
              "       [ 1,  0,  0,  0,  0, 53,  0,  0,  0,  0],\n",
              "       [ 0,  0,  0,  0,  0,  0, 58,  0,  0,  0],\n",
              "       [ 0,  0,  0,  0,  0,  0,  0, 49,  0,  0],\n",
              "       [ 0,  3,  0,  0,  0,  0,  0,  1, 49,  0],\n",
              "       [ 0,  0,  0,  0,  0,  2,  0,  0,  0, 46]])"
            ]
          },
          "metadata": {},
          "execution_count": 18
        }
      ]
    },
    {
      "cell_type": "code",
      "source": [
        "print(classification_report(y_test,y_pred))"
      ],
      "metadata": {
        "colab": {
          "base_uri": "https://localhost:8080/"
        },
        "id": "Nkpi6HzAMj-j",
        "outputId": "54f9d2d6-1b9a-4b9c-bd2f-d202e043a1d3"
      },
      "execution_count": 19,
      "outputs": [
        {
          "output_type": "stream",
          "name": "stdout",
          "text": [
            "              precision    recall  f1-score   support\n",
            "\n",
            "           0       0.98      0.98      0.98        50\n",
            "           1       0.95      1.00      0.98        59\n",
            "           2       1.00      1.00      1.00        58\n",
            "           3       1.00      0.97      0.98        61\n",
            "           4       0.98      1.00      0.99        50\n",
            "           5       0.96      0.98      0.97        54\n",
            "           6       1.00      1.00      1.00        58\n",
            "           7       0.98      1.00      0.99        49\n",
            "           8       0.96      0.92      0.94        53\n",
            "           9       1.00      0.96      0.98        48\n",
            "\n",
            "    accuracy                           0.98       540\n",
            "   macro avg       0.98      0.98      0.98       540\n",
            "weighted avg       0.98      0.98      0.98       540\n",
            "\n"
          ]
        }
      ]
    }
  ]
}